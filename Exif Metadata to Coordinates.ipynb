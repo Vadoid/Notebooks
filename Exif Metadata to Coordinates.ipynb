{
  "nbformat": 4,
  "nbformat_minor": 0,
  "metadata": {
    "colab": {
      "name": "Image to Coordinates",
      "cell_execution_strategy": "setup",
      "provenance": [],
      "toc_visible": true
    },
    "kernelspec": {
      "name": "python3",
      "display_name": "Python 3"
    },
    "language_info": {
      "name": "python"
    }
  },
  "cells": [
    {
      "cell_type": "code",
      "source": [
        "!pip install --quiet piexif"
      ],
      "metadata": {
        "id": "F3LNHYFSt4yL"
      },
      "execution_count": null,
      "outputs": []
    },
    {
      "cell_type": "code",
      "source": [
        "from PIL import Image\n",
        "import piexif\n",
        "\n",
        "codec = 'ISO-8859-1'\n",
        "\n",
        "\n",
        "def merge_gps_dms(gps_data):\n",
        "    def convert(gps_data):\n",
        "        degrees = gps_data[0][0] / gps_data[0][1]\n",
        "        minutes = gps_data[1][0] / gps_data[1][1] / 60.0\n",
        "        seconds = gps_data[2][0] / gps_data[2][1] / 3600.0\n",
        "        return degrees + minutes + seconds\n",
        "\n",
        "    latitude = convert(gps_data['GPSLatitude'])\n",
        "    longitude = convert(gps_data['GPSLongitude'])\n",
        "\n",
        "    if 'GPSLatitudeRef' in gps_data and gps_data['GPSLatitudeRef'] == 'S':\n",
        "        latitude = -latitude\n",
        "    if 'GPSLongitudeRef' in gps_data and gps_data['GPSLongitudeRef'] == 'W':\n",
        "        longitude = -longitude\n",
        "\n",
        "    return latitude, longitude\n",
        "\n",
        "def exif_to_tag(exif_dict):\n",
        "    exif_tag_dict = {}\n",
        "    thumbnail = exif_dict.pop('thumbnail')\n",
        "    exif_tag_dict['thumbnail'] = thumbnail.decode(codec)\n",
        "\n",
        "    for ifd in exif_dict:\n",
        "        exif_tag_dict[ifd] = {}\n",
        "        for tag in exif_dict[ifd]:\n",
        "            try:\n",
        "                element = exif_dict[ifd][tag].decode(codec)\n",
        "\n",
        "            except AttributeError:\n",
        "                element = exif_dict[ifd][tag]\n",
        "\n",
        "            exif_tag_dict[ifd][piexif.TAGS[ifd][tag][\"name\"]] = element\n",
        "\n",
        "    return exif_tag_dict\n",
        "\n",
        "\n",
        "def main():\n",
        "\n",
        "    filename = 'filename'\n",
        "\n",
        "    im = Image.open(filename)\n",
        "\n",
        "    exif_dict = piexif.load(im.info.get('exif'))\n",
        "    exif_dict = exif_to_tag(exif_dict)\n",
        "\n",
        "    latitude, longitude = merge_gps_dms(exif_dict['GPS'])\n",
        "\n",
        "    if latitude is not None and longitude is not None:\n",
        "      print(f\"Latitude: {latitude}\")\n",
        "      print(f\"Longitude: {longitude}\")\n",
        "    else:\n",
        "      print(\"Error: GPS data conversion failed.\")\n",
        "\n",
        "if __name__ == '__main__':\n",
        "   main()"
      ],
      "metadata": {
        "id": "h0rKuF0Zt3o3"
      },
      "execution_count": null,
      "outputs": []
    },
    {
      "cell_type": "code",
      "source": [],
      "metadata": {
        "id": "ouGfV-hpiCca"
      },
      "execution_count": null,
      "outputs": []
    }
  ]
}
