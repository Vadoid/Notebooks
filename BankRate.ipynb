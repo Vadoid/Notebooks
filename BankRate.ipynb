{
 "cells": [
  {
   "cell_type": "code",
   "execution_count": null,
   "id": "124d4bba-fc77-4551-bbbd-8c5a649a9fa7",
   "metadata": {
    "tags": []
   },
   "outputs": [],
   "source": [
    "import pandas as pd\n",
    "import requests\n",
    "from bs4 import BeautifulSoup\n",
    "from google.cloud import bigquery\n"
   ]
  },
  {
   "cell_type": "code",
   "execution_count": null,
   "id": "bea4b224-f2db-4964-a526-acd766438199",
   "metadata": {
    "tags": []
   },
   "outputs": [],
   "source": [
    "url = \"https://www.bankofengland.co.uk/boeapps/database/Bank-Rate.asp\""
   ]
  },
  {
   "cell_type": "code",
   "execution_count": null,
   "id": "a4291610-dc37-4058-a64c-f597530fc5af",
   "metadata": {},
   "outputs": [],
   "source": [
    "# Send a GET request to the URL\n",
    "response = requests.get(url)"
   ]
  },
  {
   "cell_type": "code",
   "execution_count": null,
   "id": "af1cc133-719c-4352-82f4-081108aad34c",
   "metadata": {
    "tags": []
   },
   "outputs": [],
   "source": [
    "# Parse the HTML content using BeautifulSoup\n",
    "soup = BeautifulSoup(response.content, \"html.parser\")"
   ]
  },
  {
   "cell_type": "code",
   "execution_count": null,
   "id": "7b656635-7a62-4425-8294-fbb4b3f15357",
   "metadata": {
    "tags": []
   },
   "outputs": [],
   "source": [
    "# Find the table with class \"display localtable\" \n",
    "table = soup.find(\"table\", class_=\"display localtable\")\n"
   ]
  },
  {
   "cell_type": "code",
   "execution_count": null,
   "id": "bdd4222d-b386-4402-bb70-16d23f61dac8",
   "metadata": {
    "tags": []
   },
   "outputs": [],
   "source": [
    "# Extract the table headers\n",
    "headers = [th.text.strip() for th in table.find_all(\"th\")]\n",
    "headers = [element.replace(\" \",\"_\") for element in headers]"
   ]
  },
  {
   "cell_type": "code",
   "execution_count": null,
   "id": "d2e8ed13-6602-4e08-9e49-d07c81d40a71",
   "metadata": {
    "tags": []
   },
   "outputs": [],
   "source": [
    "# Extract the table rows\n",
    "rows = []\n",
    "for tr in table.find_all(\"tr\"):\n",
    "    row = [td.text.strip() for td in tr.find_all(\"td\")]\n",
    "    if row:\n",
    "        rows.append(row)"
   ]
  },
  {
   "cell_type": "code",
   "execution_count": null,
   "id": "ab974078-4b7e-4d25-88c4-7b8285c19836",
   "metadata": {
    "tags": []
   },
   "outputs": [],
   "source": [
    "# Create a Pandas DataFrame from the table data\n",
    "df = pd.DataFrame(rows, columns=headers)\n",
    "# Convert the date column values to the desired format\n",
    "df.iloc[:, 0] = pd.to_datetime(df.iloc[:, 0], format=\"%d %b %y\").dt.strftime(\"%Y-%m-%d\")\n",
    "df"
   ]
  },
  {
   "cell_type": "code",
   "execution_count": null,
   "id": "12b50482-b52f-4465-878a-b3fc10c78c48",
   "metadata": {
    "tags": []
   },
   "outputs": [],
   "source": [
    "# Save the edited DataFrame to a new CSV file\n",
    "output_file = 'edited_boe_rate.csv'\n",
    "df.to_csv(output_file, index=False)"
   ]
  },
  {
   "cell_type": "code",
   "execution_count": null,
   "id": "22fccfa7-3ef3-4691-973e-94e16d6f5647",
   "metadata": {
    "tags": []
   },
   "outputs": [],
   "source": [
    "# Load the CSV file to BigQuery table\n",
    "project_id = 'project_id'\n",
    "dataset_id = 'dataset_id'\n",
    "table_name = 'table_name'\n",
    "\n",
    "client = bigquery.Client(project=project_id)\n",
    "dataset_ref = client.dataset(dataset_id)\n",
    "table_ref = dataset_ref.table(table_name)\n",
    "\n",
    "job_config = bigquery.LoadJobConfig()\n",
    "job_config.write_disposition = bigquery.WriteDisposition.WRITE_TRUNCATE\n",
    "job_config.autodetect = True  # Infer table schema from CSV file\n",
    "\n",
    "with open(output_file, 'rb') as source_file:\n",
    "    job = client.load_table_from_file(source_file, table_ref, job_config=job_config)\n",
    "\n",
    "job.result()  # Wait for the job to complete\n",
    "\n",
    "print(f'Successfully loaded {job.output_rows} rows into {project_id}.{dataset_id}.{table_name}')"
   ]
  }
 ],
 "metadata": {
  "kernelspec": {
   "display_name": "Python (Local)",
   "language": "python",
   "name": "local-base"
  },
  "language_info": {
   "codemirror_mode": {
    "name": "ipython",
    "version": 3
   },
   "file_extension": ".py",
   "mimetype": "text/x-python",
   "name": "python",
   "nbconvert_exporter": "python",
   "pygments_lexer": "ipython3",
   "version": "3.7.12"
  }
 },
 "nbformat": 4,
 "nbformat_minor": 5
}
