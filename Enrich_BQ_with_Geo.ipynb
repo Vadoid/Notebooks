{
 "cells": [
  {
   "cell_type": "code",
   "execution_count": null,
   "id": "53fb2a59-b6ca-4390-ad8f-76598a667b6a",
   "metadata": {},
   "outputs": [],
   "source": [
    "# Import necessary libraries\n",
    "!pip install folium --user"
   ]
  },
  {
   "cell_type": "code",
   "execution_count": null,
   "id": "36f09786-5b59-4ab2-b4aa-72a613a873c6",
   "metadata": {
    "tags": []
   },
   "outputs": [],
   "source": [
    "import pandas as pd\n",
    "import folium"
   ]
  },
  {
   "cell_type": "code",
   "execution_count": null,
   "id": "721f2bf3-79df-4f69-89c7-289bee86b945",
   "metadata": {},
   "outputs": [],
   "source": [
    "%%bigquery df\n",
    "\n",
    "select ST_GEOGFROMTEXT(ml_generate_text_llm_result) as geo\n",
    ", * EXCEPT(ml_generate_text_llm_result)\n",
    "from\n",
    "ML.GENERATE_TEXT (\n",
    "  MODEL`bqml_llm.llm_model`,\n",
    "  (SELECT\n",
    "  distinct locations,\n",
    "   CONCAT('I need coordinates for ',locations,' in San Francisco. Give me just the precise coordinates. Use longitude first. Example input: location \"Golden Gate Park\", output: POINT(-122.422439 37.826804). Always use POINT(). Use 6 decimal points. Remove all other additional text and characters.') AS prompt\n",
    "   FROM bigquery-public-data.san_francisco_film_locations.film_locations where locations like \"%Bay Bridge%\"),\n",
    "   STRUCT (0.2 AS temperature,\n",
    "    1 AS top_p,\n",
    "    20 AS top_k,\n",
    "    TRUE AS flatten_json_output))\n",
    "WHERE ml_generate_text_llm_result IS NOT NULL"
   ]
  },
  {
   "cell_type": "code",
   "execution_count": null,
   "id": "56fd95b9-4ebe-4b59-8cf5-5317145e9fc2",
   "metadata": {
    "tags": []
   },
   "outputs": [],
   "source": [
    "# Define a function to extract latitude and longitude from POINT format\n",
    "def extract_lat_lon(point):\n",
    "    point = point.replace('POINT', '').replace('(', '').replace(')', '')\n",
    "    lon, lat = point.split()\n",
    "    return float(lat), float(lon)\n",
    "\n",
    "# Create a new column with extracted latitude and longitude\n",
    "df['latitude'], df['longitude'] = zip(*df['geo'].apply(extract_lat_lon))"
   ]
  },
  {
   "cell_type": "code",
   "execution_count": null,
   "id": "728357ad-4085-49fc-9819-0e5bf9623e34",
   "metadata": {},
   "outputs": [],
   "source": [
    "# Create a folium map centered at the first location - SKIP THIS FROM 1+ run TO PLOT MORE ITERATIONS\n",
    "map = folium.Map(location=[df['latitude'].iloc[0], df['longitude'].iloc[0]], zoom_start=40)"
   ]
  },
  {
   "cell_type": "code",
   "execution_count": null,
   "id": "b77bdb38-c831-4ab9-937d-f305bf92a588",
   "metadata": {},
   "outputs": [],
   "source": [
    "# Add markers to the map for each location\n",
    "for index, row in df.iterrows():\n",
    "    folium.Marker(\n",
    "        location=[row['latitude'], row['longitude']],\n",
    "        popup=row['locations']\n",
    "    ).add_to(map)\n",
    "\n",
    "# Display the map\n",
    "map"
   ]
  }
 ],
 "metadata": {
  "kernelspec": {
   "display_name": "Python (Local)",
   "language": "python",
   "name": "local-base"
  },
  "language_info": {
   "codemirror_mode": {
    "name": "ipython",
    "version": 3
   },
   "file_extension": ".py",
   "mimetype": "text/x-python",
   "name": "python",
   "nbconvert_exporter": "python",
   "pygments_lexer": "ipython3",
   "version": "3.7.12"
  }
 },
 "nbformat": 4,
 "nbformat_minor": 5
}
