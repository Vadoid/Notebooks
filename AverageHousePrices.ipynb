{
 "cells": [
  {
   "cell_type": "code",
   "execution_count": null,
   "id": "5b8aa0dd-e667-494f-853c-419248d628a7",
   "metadata": {},
   "outputs": [],
   "source": [
    "import pandas as pd\n",
    "import requests\n",
    "from google.cloud import bigquery"
   ]
  },
  {
   "cell_type": "code",
   "execution_count": null,
   "id": "70124efa-3d2d-4ea3-a277-ac4e4db6be00",
   "metadata": {},
   "outputs": [],
   "source": [
    "# Download CSV file\n",
    "url = 'https://landregistry.data.gov.uk/app/ukhpi/download/new.csv?from=1975-01-01&to=2023-03-01&location=http%3A%2F%2Flandregistry.data.gov.uk%2Fid%2Fregion%2Funited-kingdom&thm%5B%5D=property_type&in%5B%5D=avg'"
   ]
  },
  {
   "cell_type": "code",
   "execution_count": null,
   "id": "bc09fc07-eaf4-4071-867a-7fb253ac5a45",
   "metadata": {},
   "outputs": [],
   "source": [
    "#Load it into a DataFrame\n",
    "df = pd.read_csv(url)\n",
    "# Select desired columns and rename them\n",
    "df = df[['Pivotable date', 'Average price All property types']]\n",
    "df = df.rename(columns={'Pivotable date': 'Date', 'Average price All property types': 'AvgPrice'})\n",
    "df"
   ]
  },
  {
   "cell_type": "code",
   "execution_count": null,
   "id": "49487a8a-5ea7-4dfe-9171-5b4df525dae5",
   "metadata": {},
   "outputs": [],
   "source": [
    "# Save the edited DataFrame to a new CSV file\n",
    "output_file = 'edited_average_prices.csv'\n",
    "df.to_csv(output_file, index=False)"
   ]
  },
  {
   "cell_type": "code",
   "execution_count": null,
   "id": "0f71c100-e19e-4f91-b608-befe2857273d",
   "metadata": {},
   "outputs": [],
   "source": [
    "# Load the CSV file to BigQuery table\n",
    "project_id = 'project_id'\n",
    "dataset_id = 'dataset_id'\n",
    "table_name = 'table_name'\n",
    "\n",
    "client = bigquery.Client(project=project_id)\n",
    "dataset_ref = client.dataset(dataset_id)\n",
    "table_ref = dataset_ref.table(table_name)\n",
    "\n",
    "job_config = bigquery.LoadJobConfig()\n",
    "job_config.write_disposition = bigquery.WriteDisposition.WRITE_TRUNCATE\n",
    "job_config.autodetect = True  # Infer table schema from CSV file\n",
    "\n",
    "with open(output_file, 'rb') as source_file:\n",
    "    job = client.load_table_from_file(source_file, table_ref, job_config=job_config)\n",
    "\n",
    "job.result()  # Wait for the job to complete\n",
    "\n",
    "print(f'Successfully loaded {job.output_rows} rows into {project_id}.{dataset_id}.{table_name}')"
   ]
  }
 ],
 "metadata": {
  "kernelspec": {
   "display_name": "Python (Local)",
   "language": "python",
   "name": "local-base"
  },
  "language_info": {
   "codemirror_mode": {
    "name": "ipython",
    "version": 3
   },
   "file_extension": ".py",
   "mimetype": "text/x-python",
   "name": "python",
   "nbconvert_exporter": "python",
   "pygments_lexer": "ipython3",
   "version": "3.7.12"
  }
 },
 "nbformat": 4,
 "nbformat_minor": 5
}
